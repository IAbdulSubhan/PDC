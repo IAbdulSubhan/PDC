{
 "cells": [
  {
   "cell_type": "code",
   "execution_count": null,
   "id": "1ac8f876-da0e-4555-acf9-7f9f4bf11f7c",
   "metadata": {},
   "outputs": [],
   "source": [
    "!pip install pyspark"
   ]
  },
  {
   "cell_type": "code",
   "execution_count": null,
   "id": "be6c64fe-0aec-4827-9aa3-47ee1e302dde",
   "metadata": {},
   "outputs": [],
   "source": [
    "#spark context  is the entry point for spark environment\n",
    "#spark conf to run a spark application on the local/cluster"
   ]
  },
  {
   "cell_type": "code",
   "execution_count": 2,
   "id": "6cd45d8d-5758-4727-b84b-04a39ff46714",
   "metadata": {},
   "outputs": [
    {
     "name": "stderr",
     "output_type": "stream",
     "text": [
      "23/05/16 15:27:32 WARN Utils: Your hostname, osama-Vostro-14-3468 resolves to a loopback address: 127.0.1.1; using 172.17.0.1 instead (on interface docker0)\n",
      "23/05/16 15:27:32 WARN Utils: Set SPARK_LOCAL_IP if you need to bind to another address\n",
      "Setting default log level to \"WARN\".\n",
      "To adjust logging level use sc.setLogLevel(newLevel). For SparkR, use setLogLevel(newLevel).\n",
      "23/05/16 15:27:33 WARN NativeCodeLoader: Unable to load native-hadoop library for your platform... using builtin-java classes where applicable\n",
      "[Stage 0:>                                                          (0 + 2) / 2]\r"
     ]
    },
    {
     "name": "stdout",
     "output_type": "stream",
     "text": [
      "PySpark method:\n",
      "Execution time: 5.645969867706299\n"
     ]
    },
    {
     "name": "stderr",
     "output_type": "stream",
     "text": [
      "                                                                                \r"
     ]
    }
   ],
   "source": [
    "import time\n",
    "import csv\n",
    "import matplotlib.pyplot as plt\n",
    "from pyspark import SparkContext, SparkConf\n",
    "\n",
    "# Define the search term\n",
    "search_term = 'Cure'\n",
    "\n",
    "# Read the list of movies from a CSV file\n",
    "movies = []\n",
    "with open('tmdb_5000_credits.csv', 'r') as f:\n",
    "    reader = csv.reader(f)\n",
    "    for row in reader:\n",
    "        movies.append(row[0])\n",
    "\n",
    "# Measure the execution time of the PySpark method\n",
    "start_time_spark = time.time()\n",
    "conf = SparkConf().setAppName(\"films\").setMaster(\"local[2]\")\n",
    "sc = SparkContext.getOrCreate(conf=conf)\n",
    "rdd = sc.parallelize(movies)\n",
    "result_spark = rdd.filter(lambda movie: movie == search_term).collect()\n",
    "end_time_spark = time.time()\n",
    "\n",
    "\n",
    "# Print the results and the execution times\n",
    "print(\"PySpark method:\")\n",
    "\n",
    "print(\"Execution time:\", end_time_spark - start_time_spark)\n",
    "\n",
    "\n"
   ]
  },
  {
   "cell_type": "code",
   "execution_count": 3,
   "id": "061e8524-b4ae-4873-ab03-c4c1e104305b",
   "metadata": {},
   "outputs": [
    {
     "name": "stdout",
     "output_type": "stream",
     "text": [
      "For cluster-1:\n",
      "Execution time: 0.1772298812866211\n",
      "For Cluster-2:\n",
      "Execution time: 0.1863856315612793\n"
     ]
    },
    {
     "data": {
      "image/png": "[encoded data removed]",
      "text/plain": [
       "<Figure size 640x480 with 1 Axes>"
      ]
     },
     "metadata": {},
     "output_type": "display_data"
    }
   ],
   "source": [
    "import time\n",
    "import csv\n",
    "import matplotlib.pyplot as plt\n",
    "\n",
    "# Define the search term\n",
    "search_term = 'Cure'\n",
    "\n",
    "# Read the list of movies from a CSV file\n",
    "movies = []\n",
    "with open('tmdb_5000_credits.csv', 'r') as f:\n",
    "    reader = csv.reader(f)\n",
    "    for row in reader:\n",
    "        movies.append(row[0])\n",
    "\n",
    "# Measure the execution time of the PySpark method\n",
    "start_time_spark = time.time()\n",
    "conf = SparkConf().setAppName(\"films\").setMaster(\"local[1]\")\n",
    "sc = SparkContext.getOrCreate(conf=conf)\n",
    "rdd = sc.parallelize(movies)\n",
    "result_spark = rdd.filter(lambda movie: movie == search_term).collect()\n",
    "end_time_spark = time.time()\n",
    "\n",
    "# Measure the execution time of the non-PySpark method\n",
    "start_time_2_spark = time.time()\n",
    "conf = SparkConf().setAppName(\"films\").setMaster(\"local[3]\")\n",
    "sc = SparkContext.getOrCreate(conf=conf)\n",
    "rdd = sc.parallelize(movies)\n",
    "result_2_spark = rdd.filter(lambda movie: movie == search_term).collect()\n",
    "end_time_2_spark = time.time()\n",
    "\n",
    "# Print the results and the execution times\n",
    "print(\"For cluster-1:\")\n",
    "print(\"Execution time:\", end_time_spark - start_time_spark)\n",
    "\n",
    "print(\"For Cluster-2:\")\n",
    "print(\"Execution time:\", end_time_2_spark - start_time_2_spark)\n",
    "\n",
    "# Plot the results on a bar chart\n",
    "execution_times = [end_time_spark - start_time_spark, end_time_2_spark - start_time_2_spark]\n",
    "labels = ['Cluster 1', 'Cluster 2']\n",
    "plt.bar(labels, execution_times)\n",
    "plt.title('Execution Time Comparison')\n",
    "plt.xlabel('Method')\n",
    "plt.ylabel('Execution Time (s)')\n",
    "plt.show()\n"
   ]
  },
  {
   "cell_type": "code",
   "execution_count": null,
   "id": "caed1f08-3f35-4fd1-b963-2f939b19237b",
   "metadata": {},
   "outputs": [],
   "source": []
  }
 ],
 "metadata": {
  "kernelspec": {
   "display_name": "Python 3 (ipykernel)",
   "language": "python",
   "name": "python3"
  },
  "language_info": {
   "codemirror_mode": {
    "name": "ipython",
    "version": 3
   },
   "file_extension": ".py",
   "mimetype": "text/x-python",
   "name": "python",
   "nbconvert_exporter": "python",
   "pygments_lexer": "ipython3",
   "version": "3.10.9"
  }
 },
 "nbformat": 4,
 "nbformat_minor": 5
}
