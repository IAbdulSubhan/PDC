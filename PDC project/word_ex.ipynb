{
 "cells": [
  {
   "cell_type": "code",
   "execution_count": 11,
   "id": "711cf3ca-6364-4bc6-9982-f627a8b19e24",
   "metadata": {},
   "outputs": [],
   "source": []
  },
  {
   "cell_type": "code",
   "execution_count": 12,
   "id": "85200b5d-bb88-43e4-8e52-b45bff85d9e7",
   "metadata": {},
   "outputs": [
    {
     "name": "stdout",
     "output_type": "stream",
     "text": [
      "Requirement already satisfied: findspark in /home/osama/anaconda3/lib/python3.10/site-packages (2.0.1)\n",
      "Note: you may need to restart the kernel to use updated packages.\n"
     ]
    }
   ],
   "source": [
    "# !pip install findspark\n"
   ]
  },
  {
   "cell_type": "code",
   "execution_count": 1,
   "id": "a9dbf3ae-e7c2-4178-8a51-78502e36e6e5",
   "metadata": {},
   "outputs": [],
   "source": [
    "import findspark   #allow python without apache natively\n",
    "findspark.init()"
   ]
  },
  {
   "cell_type": "code",
   "execution_count": 2,
   "id": "6eced63e-3884-4537-a4e1-7f985ab245dc",
   "metadata": {},
   "outputs": [],
   "source": [
    "#spark context  is the entry point for spark environment\n",
    "#spark conf to run a spark application on the local/cluster"
   ]
  },
  {
   "cell_type": "code",
   "execution_count": 1,
   "id": "a8ae5bf3-9d30-4e78-9a8a-5cf0fbf5baf8",
   "metadata": {},
   "outputs": [
    {
     "name": "stderr",
     "output_type": "stream",
     "text": [
      "23/05/15 10:52:49 WARN Utils: Your hostname, osama-Vostro-14-3468 resolves to a loopback address: 127.0.1.1; using 192.168.43.112 instead (on interface wlp1s0)\n",
      "23/05/15 10:52:49 WARN Utils: Set SPARK_LOCAL_IP if you need to bind to another address\n",
      "Setting default log level to \"WARN\".\n",
      "To adjust logging level use sc.setLogLevel(newLevel). For SparkR, use setLogLevel(newLevel).\n",
      "23/05/15 10:52:50 WARN NativeCodeLoader: Unable to load native-hadoop library for your platform... using builtin-java classes where applicable\n"
     ]
    }
   ],
   "source": [
    "\n",
    "\n",
    "from pyspark import SparkContext, SparkConf\n",
    "\n",
    "conf = SparkConf().setAppName(\"wordcount\").setMaster(\"local\")\n",
    "sc = SparkContext(conf=conf)\n"
   ]
  },
  {
   "cell_type": "code",
   "execution_count": 3,
   "id": "a19d40d6-c043-4252-ae4b-bee5f3ebe1b5",
   "metadata": {},
   "outputs": [],
   "source": [
    "in_text=sc.textFile('word_count.txt')"
   ]
  },
  {
   "cell_type": "code",
   "execution_count": 4,
   "id": "37a8ffad-a6b6-4cec-9855-41b563dafadc",
   "metadata": {},
   "outputs": [
    {
     "data": {
      "text/plain": [
       "['hi hello hi hello usama usama usama']"
      ]
     },
     "execution_count": 4,
     "metadata": {},
     "output_type": "execute_result"
    }
   ],
   "source": [
    "in_text.collect()"
   ]
  },
  {
   "cell_type": "code",
   "execution_count": 5,
   "id": "2167ac5e-7eca-4224-8e85-b1920a520b0e",
   "metadata": {},
   "outputs": [],
   "source": [
    "text_flat = in_text.flatMap(lambda x: x.split(' ')).map(lambda x: (x, 1)).reduceByKey(lambda x, y: x + y)\n"
   ]
  },
  {
   "cell_type": "code",
   "execution_count": 6,
   "id": "bba9a576-3213-4f90-8a92-0c7db0aa7561",
   "metadata": {},
   "outputs": [
    {
     "name": "stderr",
     "output_type": "stream",
     "text": [
      "                                                                                \r"
     ]
    },
    {
     "data": {
      "text/plain": [
       "[('hi', 2), ('hello', 2), ('usama', 3)]"
      ]
     },
     "execution_count": 6,
     "metadata": {},
     "output_type": "execute_result"
    }
   ],
   "source": [
    "text_flat.collect()"
   ]
  },
  {
   "cell_type": "code",
   "execution_count": null,
   "id": "030d58b8-0691-4706-a929-443143a44db2",
   "metadata": {},
   "outputs": [],
   "source": []
  },
  {
   "cell_type": "code",
   "execution_count": null,
   "id": "1ca4c71f-6361-4f8c-9430-cf4fcbed96c4",
   "metadata": {},
   "outputs": [],
   "source": []
  },
  {
   "cell_type": "code",
   "execution_count": null,
   "id": "e9c12130-3d62-40db-8f7a-efab200890b8",
   "metadata": {},
   "outputs": [],
   "source": []
  },
  {
   "cell_type": "code",
   "execution_count": null,
   "id": "cbfb9516-010c-40c8-9a21-a4de19a4c0f0",
   "metadata": {},
   "outputs": [],
   "source": []
  },
  {
   "cell_type": "code",
   "execution_count": 9,
   "id": "2b3e9245-af32-4af8-a3c4-bd26e11b5903",
   "metadata": {},
   "outputs": [],
   "source": [
    "#spark context stored the api details "
   ]
  }
 ],
 "metadata": {
  "kernelspec": {
   "display_name": "Python 3 (ipykernel)",
   "language": "python",
   "name": "python3"
  },
  "language_info": {
   "codemirror_mode": {
    "name": "ipython",
    "version": 3
   },
   "file_extension": ".py",
   "mimetype": "text/x-python",
   "name": "python",
   "nbconvert_exporter": "python",
   "pygments_lexer": "ipython3",
   "version": "3.10.9"
  }
 },
 "nbformat": 4,
 "nbformat_minor": 5
}
